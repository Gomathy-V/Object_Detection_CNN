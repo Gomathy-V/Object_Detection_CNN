{
 "cells": [
  {
   "cell_type": "markdown",
   "id": "28c05d6f",
   "metadata": {},
   "source": [
    "#### Object Detection Using Multi-Label Classification "
   ]
  },
  {
   "cell_type": "code",
   "execution_count": null,
   "id": "88d6e6bf",
   "metadata": {},
   "outputs": [],
   "source": [
    "#Importing Libraries\n",
    "import os\n",
    "import cv2\n",
    "import numpy as np\n",
    "from sklearn.model_selection import train_test_split\n",
    "import tensorflow as tf\n",
    "from tensorflow.keras.models import Sequential\n",
    "from tensorflow.keras.layers import Conv2D, MaxPooling2D, Flatten, Dense, Dropout, Reshape"
   ]
  },
  {
   "cell_type": "code",
   "execution_count": null,
   "id": "c250803c",
   "metadata": {},
   "outputs": [],
   "source": [
    "# Example paths to images and annotations directories\n",
    "images_path = 'D:/FoodSeg103/Dataset/img_dir'\n",
    "annotations_path = 'D:/FoodSeg103/Dataset/ann_dir'\n",
    "img_size = (128, 128)\n",
    "\n",
    "# Function to load images and annotations\n",
    "def load_images_and_annotations(images_path, annotations_path):\n",
    "    images = []\n",
    "    labels = []\n",
    "    \n",
    "    # List all image files in images_path\n",
    "    image_files = sorted(os.listdir(images_path))\n",
    "    \n",
    "    # Process each image file and its corresponding annotation\n",
    "    for image_name in image_files:\n",
    "        image_path = os.path.join(images_path, image_name)\n",
    "        annotation_path = os.path.join(annotations_path, image_name.replace('.jpg', '.png'))\n",
    "        \n",
    "        # Read the input image\n",
    "        image = cv2.imread(image_path)\n",
    "        image = cv2.resize(image, img_size)  # Resize image to fixed size\n",
    "        images.append(image)\n",
    "        \n",
    "        # Read the annotation image\n",
    "        annotation = cv2.imread(annotation_path, cv2.IMREAD_GRAYSCALE)\n",
    "        annotation = cv2.resize(annotation, img_size, interpolation=cv2.INTER_NEAREST)  # Resize annotation image to fixed size\n",
    "        unique_labels = np.unique(annotation)  # Get unique labels from annotation\n",
    "        \n",
    "        # Convert to label format (assuming binary mask here)\n",
    "        label = np.zeros_like(annotation, dtype=np.uint8)\n",
    "        for unique_label in unique_labels:\n",
    "            label[annotation == unique_label] = 1\n",
    "        \n",
    "        labels.append(label)\n",
    "    \n",
    "    return images, labels"
   ]
  },
  {
   "cell_type": "code",
   "execution_count": null,
   "id": "dc885aef",
   "metadata": {},
   "outputs": [],
   "source": [
    "# Load images and annotations\n",
    "images, labels = load_images_and_annotations(images_path, annotations_path)\n",
    "\n",
    "# Convert lists to numpy arrays\n",
    "X = np.array(images, dtype='float32') / 255.0  # Normalize pixel values\n",
    "y = np.array(labels, dtype='float32')  # Use float32 for labels\n",
    "\n",
    "# Split dataset into training and testing sets\n",
    "X_train, X_test, y_train, y_test = train_test_split(X, y, test_size=0.2, random_state=42)"
   ]
  },
  {
   "cell_type": "code",
   "execution_count": null,
   "id": "7236034f",
   "metadata": {},
   "outputs": [],
   "source": [
    "# Print dataset shapes for verification\n",
    "print(f\"X_train shape: {X_train.shape}, y_train shape: {y_train.shape}\")\n",
    "print(f\"X_test shape: {X_test.shape}, y_test shape: {y_test.shape}\")\n",
    "\n",
    "# Define input shape and number of classes based on dataset\n",
    "input_shape = X_train[0].shape  \n",
    "num_classes = y_train.shape[-1]  "
   ]
  },
  {
   "cell_type": "code",
   "execution_count": null,
   "id": "f4c417c0",
   "metadata": {},
   "outputs": [],
   "source": [
    "# Create an instance of the CNN model\n",
    "model = Sequential([\n",
    "    Conv2D(16, (3, 3), activation='relu', input_shape=input_shape),\n",
    "    MaxPooling2D((2, 2)),\n",
    "    Conv2D(32, (3, 3), activation='relu'),\n",
    "    MaxPooling2D((2, 2)),\n",
    "    Flatten(),\n",
    "    Dropout(0.3), \n",
    "    Dense(128 * 128, activation='sigmoid'), \n",
    "    Reshape((128, 128))  \n",
    "])"
   ]
  },
  {
   "cell_type": "code",
   "execution_count": null,
   "id": "022dc2da",
   "metadata": {},
   "outputs": [],
   "source": [
    "# Compile the model\n",
    "model.compile(optimizer='adam',\n",
    "              loss='binary_crossentropy',  # Binary cross-entropy for multi-label classification\n",
    "              metrics=['accuracy'])"
   ]
  },
  {
   "cell_type": "code",
   "execution_count": null,
   "id": "f332ba16",
   "metadata": {},
   "outputs": [],
   "source": [
    "# Train the model\n",
    "model.fit(X_train, y_train, epochs=5, batch_size=32, validation_data=(X_test, y_test))"
   ]
  },
  {
   "cell_type": "code",
   "execution_count": null,
   "id": "e9a177fc",
   "metadata": {},
   "outputs": [],
   "source": [
    "# Evaluate the model\n",
    "loss, accuracy = model.evaluate(X_test, y_test) \n",
    "print(f\"Test Accuracy: {accuracy}\")"
   ]
  },
  {
   "cell_type": "code",
   "execution_count": null,
   "id": "0306b339",
   "metadata": {},
   "outputs": [],
   "source": [
    "# Make predictions on the test set\n",
    "predictions = model.predict(X_test)\n",
    "\n",
    "# Threshold the predictions to get binary outputs\n",
    "threshold = 0.5\n",
    "binary_predictions = (predictions > threshold).astype(int)\n",
    "\n",
    "# Reshape the binary predictions to match the shape of the ground truth\n",
    "binary_predictions = binary_predictions.reshape(-1, 128, 128)\n",
    "y_test = y_test.reshape(-1, 128, 128)"
   ]
  },
  {
   "cell_type": "code",
   "execution_count": null,
   "id": "429b5366",
   "metadata": {},
   "outputs": [],
   "source": []
  }
 ],
 "metadata": {
  "kernelspec": {
   "display_name": "Python 3 (ipykernel)",
   "language": "python",
   "name": "python3"
  },
  "language_info": {
   "codemirror_mode": {
    "name": "ipython",
    "version": 3
   },
   "file_extension": ".py",
   "mimetype": "text/x-python",
   "name": "python",
   "nbconvert_exporter": "python",
   "pygments_lexer": "ipython3",
   "version": "3.11.5"
  }
 },
 "nbformat": 4,
 "nbformat_minor": 5
}
